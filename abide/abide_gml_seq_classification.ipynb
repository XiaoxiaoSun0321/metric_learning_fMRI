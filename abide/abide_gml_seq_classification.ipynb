{
 "cells": [
  {
   "cell_type": "code",
   "execution_count": 1,
   "id": "7aaedeca",
   "metadata": {},
   "outputs": [],
   "source": [
    "import os\n",
    "os.chdir('XXX') #path to your folder"
   ]
  },
  {
   "cell_type": "code",
   "execution_count": null,
   "id": "a7ab1434",
   "metadata": {},
   "outputs": [],
   "source": [
    "import pickle \n",
    "import numpy as np\n",
    "\n",
    "# Load ABIDE-150 data with 80 dimensional dictionary elements \n",
    "data_dict = pickle.load(open( \"./preprocess_scripts/abide_dl_80_data.pkl\", \"rb\"))\n",
    "ys = data_dict['ys'] - 1\n",
    "xs = data_dict['zs'] # Dictionary learning loadings treated as data"
   ]
  },
  {
   "cell_type": "code",
   "execution_count": null,
   "id": "c4d3e73c",
   "metadata": {},
   "outputs": [],
   "source": [
    "import torch\n",
    "\n",
    "def get_samples(xs, ys):\n",
    "    classes = [0, 1]\n",
    "    anchors = []\n",
    "    positives = []\n",
    "    negatives = []\n",
    "\n",
    "    for c in classes:\n",
    "        # construct anchors from batch\n",
    "        anchors.append(torch.tensor(xs[ys == c].reshape(-1, xs.shape[-1])).float())\n",
    "        \n",
    "        # pick postive samples randomly from dataset\n",
    "        pos_idx = torch.randint(0, len(xs[ys == c]), (len(anchors[-1]),))\n",
    "        positives.append(torch.tensor(xs[ys == c].reshape(-1, xs.shape[-1]))[pos_idx].float())\n",
    "        \n",
    "        # pick negative samples randomly from dataset\n",
    "        neg_idx = torch.randint(0, len(xs[ys != c]), (len(anchors[-1]),))\n",
    "        negatives.append(torch.tensor(xs[ys != c].reshape(-1, xs.shape[-1]))[neg_idx].float())\n",
    "\n",
    "    anchors = torch.vstack(anchors)\n",
    "    positives = torch.vstack(positives)\n",
    "    negatives = torch.vstack(negatives)\n",
    "\n",
    "    return anchors, positives, negatives"
   ]
  },
  {
   "cell_type": "code",
   "execution_count": 4,
   "id": "aefe2e59",
   "metadata": {},
   "outputs": [],
   "source": [
    "from utils.eval import get_eval_metrics, get_cv_metrics\n",
    "from sklearn.neighbors import KNeighborsClassifier\n",
    "from collections import Counter\n",
    "    \n",
    "def get_knn_metrics(encoder, xs_train, ys_train, xs_test, ys_test, z_dim):    \n",
    "    \n",
    "    #Option to run it with cuda\n",
    "    #zs_train = encoder(torch.tensor(xs_train.reshape(-1, xs_train.shape[-1])).float().cuda()).detach().cpu()\n",
    "    #zs_train = zs_train.reshape(xs_train.shape[0], xs_train.shape[1], z_dim)\n",
    "\n",
    "    #zs_test = encoder(torch.tensor(xs_test.reshape(-1, xs_test.shape[-1])).float().cuda()).detach().cpu()\n",
    "    #zs_test = zs_test.reshape(xs_test.shape[0], xs_test.shape[1], z_dim)\n",
    "    \n",
    "    zs_train = encoder(torch.tensor(xs_train.reshape(-1, xs_train.shape[-1])).float()).detach()\n",
    "    zs_train = zs_train.reshape(xs_train.shape[0], xs_train.shape[1], z_dim)\n",
    "    \n",
    "    zs_test = encoder(torch.tensor(xs_test.reshape(-1, xs_test.shape[-1])).float()).detach()\n",
    "    zs_test = zs_test.reshape(xs_test.shape[0], xs_test.shape[1], z_dim)\n",
    "    \n",
    "    \n",
    "    # Trian k-NN classifier\n",
    "    neigh = KNeighborsClassifier(n_neighbors=3, metric='cosine')\n",
    "    neigh.fit(zs_train.reshape(-1, z_dim), np.tile(ys_train[:,None], (1, xs_train.shape[1])).reshape(-1))\n",
    "    \n",
    "    # Use k-NN to classify each volume\n",
    "    # then use majority vote to classify each sequence\n",
    "    y_train_pred = []\n",
    "    for z in zs_train:\n",
    "        c = Counter(neigh.predict(z))\n",
    "        value, count = c.most_common()[0]\n",
    "        y_train_pred.append(value)\n",
    "    \n",
    "    train_metrics = get_eval_metrics(ys_train, y_train_pred)\n",
    "    \n",
    "    # Repeat for held-out data\n",
    "    y_test_pred = []\n",
    "    for z in zs_test:\n",
    "        c = Counter(neigh.predict(z))\n",
    "        value, count = c.most_common()[0]\n",
    "        y_test_pred.append(value)\n",
    "\n",
    "    test_metrics = get_eval_metrics(ys_test, y_test_pred)\n",
    "\n",
    "    return train_metrics, test_metrics"
   ]
  },
  {
   "cell_type": "code",
   "execution_count": 5,
   "id": "e9551051",
   "metadata": {},
   "outputs": [],
   "source": [
    "X_DIM = 80\n",
    "Z_DIM = 10\n",
    "\n",
    "N_SPLITS = 5\n",
    "\n",
    "LMBDA = 0 # Weight on reconstruction error term\n",
    "M = 20\n",
    "N_EPOCHS = 40\n",
    "LR = 0.001\n",
    "SUB_PER_BATCH = 30\n",
    "DROPOUT = .3\n",
    "\n",
    "USE_CUDA = True\n",
    "TEST_MODE = True"
   ]
  },
  {
   "cell_type": "code",
   "execution_count": 6,
   "id": "447b564b",
   "metadata": {},
   "outputs": [],
   "source": [
    "from torch import nn\n",
    "import torch.nn.functional as F\n",
    "\n",
    "class Encoder(nn.Module):\n",
    "    def __init__(self, x_dim, z_dim, dropout):\n",
    "        super(Encoder, self).__init__()\n",
    "        self.nonlinearity = nn.Softplus()\n",
    "        self.dropout = nn.Dropout(dropout)\n",
    "        \n",
    "        self.fc1 = nn.Linear(x_dim, 50)\n",
    "        self.fc2 = nn.Linear(50, 20)\n",
    "        self.fc3 = nn.Linear(20, z_dim)\n",
    "        \n",
    "        \n",
    "    def forward(self, x):\n",
    "        x = self.dropout(self.nonlinearity(self.fc1(x)))\n",
    "        x = self.dropout(self.nonlinearity(self.fc2(x)))\n",
    "        x = self.fc3(x)\n",
    "        \n",
    "        return x\n",
    "    \n",
    "class Decoder(nn.Module):\n",
    "    def __init__(self, x_dim, z_dim, dropout):\n",
    "        super(Decoder, self).__init__()\n",
    "        self.nonlinearity = nn.Softplus()\n",
    "        \n",
    "        self.fc1 = nn.Linear(z_dim, 50)\n",
    "        self.fc2 = nn.Linear(50, 100)\n",
    "        self.fc3 = nn.Linear(100, 200)\n",
    "        self.fc4 = nn.Linear(200, x_dim)\n",
    "        \n",
    "    def forward(self, x):\n",
    "        x = self.nonlinearity(self.fc1(x))\n",
    "        x = self.nonlinearity(self.fc2(x))\n",
    "        x = self.nonlinearity(self.fc3(x))\n",
    "        x = self.fc4(x)\n",
    "\n",
    "        return x    "
   ]
  },
  {
   "cell_type": "code",
   "execution_count": 7,
   "id": "2d381021",
   "metadata": {},
   "outputs": [
    {
     "name": "stdout",
     "output_type": "stream",
     "text": [
      "\n",
      "Fold 1 of 5\n",
      "Epoch: 40 of 40!!!TEST MODE!!!\n"
     ]
    }
   ],
   "source": [
    "from sklearn.model_selection import StratifiedKFold\n",
    "import torch.optim as optim\n",
    "\n",
    "losses = []\n",
    "ho_losses = []\n",
    "train_metrics_lst = []\n",
    "test_metrics_lst = []\n",
    "cached_anchors = []\n",
    "\n",
    "recon_losses = []\n",
    "ho_recon_losses = []\n",
    "info_losses = []\n",
    "ho_info_losses = []\n",
    "\n",
    "device = torch.device(\"cuda\" if USE_CUDA else \"cpu\")\n",
    "\n",
    "def compute_loss(encoder, decoder, xs, ys):\n",
    "    loss = 0.0\n",
    "        \n",
    "    anchors, positives, negatives = get_samples(xs, ys)\n",
    "    #a, p, n = encoder(anchors.cuda()), encoder(positives.cuda()), encoder(negatives.cuda())\n",
    "    a, p, n = encoder(anchors), encoder(positives), encoder(negatives)\n",
    "\n",
    "    a = torch.nn.functional.normalize(a, p=2.0, dim = 1)\n",
    "    p = torch.nn.functional.normalize(p, p=2.0, dim = 1)\n",
    "    n = torch.nn.functional.normalize(n, p=2.0, dim = 1)\n",
    "\n",
    "    # alpha - log(exp(alpha) + beta)\n",
    "    # alpha = z_anchor^T z_positive\n",
    "    # beta = sum_m exp(z_anchor^T z^negative)\n",
    "    alpha = torch.sum(a * p, 1)\n",
    "\n",
    "    beta = torch.exp(torch.sum(a * n, 1))\n",
    "    for _ in range(M):\n",
    "        perm = torch.randperm(n.size(0))\n",
    "        beta = beta + torch.exp(torch.sum(a * n[perm], 1))\n",
    "\n",
    "    info_loss = -1 * torch.mean(alpha - torch.log(torch.exp(alpha) + beta))\n",
    "    #recon_loss = torch.mean(torch.norm(anchors.cuda() - decoder(a), p=2,  dim=1)**2)\n",
    "    recon_loss = torch.mean(torch.norm(anchors - decoder(a), p=2,  dim=1)**2)\n",
    "    \n",
    "    return info_loss, recon_loss\n",
    "\n",
    "kf = StratifiedKFold(n_splits=N_SPLITS)\n",
    "\n",
    "for i, (train_index, test_index) in enumerate(kf.split(xs, ys)):\n",
    "    if TEST_MODE and i > 0:\n",
    "        print('!!!TEST MODE!!!')\n",
    "        break\n",
    "\n",
    "    # Initialize neural net and optimizer\n",
    "    #encoder = Encoder(x_dim=X_DIM, z_dim=Z_DIM, dropout=DROPOUT).to(device)\n",
    "    #decoder = Decoder(x_dim=X_DIM, z_dim=Z_DIM, dropout=DROPOUT).to(device)\n",
    "    encoder = Encoder(x_dim=X_DIM, z_dim=Z_DIM, dropout=DROPOUT)\n",
    "    decoder = Decoder(x_dim=X_DIM, z_dim=Z_DIM, dropout=DROPOUT)\n",
    "\n",
    "    learnable_params = list(encoder.parameters()) + list(decoder.parameters())\n",
    "    optimizer = optim.Adam(learnable_params, lr=LR)\n",
    "\n",
    "    losses.append([])\n",
    "    ho_losses.append([])\n",
    "    train_metrics_lst.append([])\n",
    "    test_metrics_lst.append([])\n",
    "    recon_losses.append([])\n",
    "    ho_recon_losses.append([])\n",
    "    info_losses.append([])\n",
    "    ho_info_losses.append([])\n",
    "\n",
    "\n",
    "    print(f'\\nFold {i+1} of {N_SPLITS}')\n",
    "    xs_train, xs_test = xs[train_index], xs[test_index]\n",
    "    ys_train, ys_test = ys[train_index], ys[test_index]\n",
    "\n",
    "    \n",
    "    for i in range(N_EPOCHS):\n",
    "        if i % 1 == 0:\n",
    "            print(f'\\rEpoch: {i+1} of {N_EPOCHS}', end=\"\")\n",
    "            train_metrics, test_metrics = get_knn_metrics(encoder, xs_train, ys_train, xs_test, ys_test, z_dim=Z_DIM)\n",
    "            \n",
    "            train_metrics_lst[-1].append(train_metrics)\n",
    "            test_metrics_lst[-1].append(test_metrics)            \n",
    "\n",
    "            #print(train_metrics)\n",
    "            #print(test_metrics)\n",
    "            #print(f'Recon Loss: {recon_loss}; Info Loss: {info_loss}')\n",
    "            #print(f'HO Recon Loss: {ho_recon_loss}; HO Info Loss: {ho_info_loss}')\n",
    "\n",
    "        \n",
    "        for batch in range(int(xs_train.shape[0]/SUB_PER_BATCH)):\n",
    "            permutation = torch.randperm(xs_train.shape[0])[:SUB_PER_BATCH]\n",
    "\n",
    "            # Train step\n",
    "            optimizer.zero_grad()\n",
    "            encoder.train()\n",
    "            decoder.train()\n",
    "\n",
    "            info_loss, recon_loss = compute_loss(encoder, decoder, xs_train[permutation], ys_train[permutation])\n",
    "            loss = (1.-LMBDA) * info_loss + LMBDA * recon_loss\n",
    "\n",
    "            loss.backward()\n",
    "            optimizer.step()\n",
    "            losses[-1].append(loss.item())\n",
    "\n",
    "            # Eval on heldout\n",
    "            encoder.eval()\n",
    "            decoder.eval()\n",
    "            ho_info_loss, ho_recon_loss = compute_loss(encoder, decoder, xs_test, ys_test)\n",
    "            loss = (1.-LMBDA) * ho_info_loss + LMBDA * ho_recon_loss\n",
    "            ho_losses[-1].append(loss.item())\n",
    "\n",
    "            #recon_losses[-1].append(recon_loss.detach().cpu())\n",
    "            #ho_recon_losses[-1].append(ho_recon_loss.detach().cpu())\n",
    "            #info_losses[-1].append(info_loss.detach().cpu())\n",
    "            #ho_info_losses[-1].append(ho_info_loss.detach().cpu())\n",
    "            \n",
    "            recon_losses[-1].append(recon_loss.detach())\n",
    "            ho_recon_losses[-1].append(ho_recon_loss.detach())\n",
    "            info_losses[-1].append(info_loss.detach())\n",
    "            ho_info_losses[-1].append(ho_info_loss.detach())\n",
    "            \n",
    "            \n",
    "            # Save for visualization\n",
    "            #if i % 50 == 0:\n",
    "            #    cached_anchors.append(net(torch.tensor(xs_train).cuda().float()).detach().cpu().numpy())\n",
    "            #    cached_labels.append(ys)\n",
    "\n",
    "            \n",
    "            \n"
   ]
  },
  {
   "cell_type": "code",
   "execution_count": 8,
   "id": "8f405415",
   "metadata": {},
   "outputs": [
    {
     "name": "stdout",
     "output_type": "stream",
     "text": [
      "--------------------- Train [Acc/Sen/Spec] ---------------------\n",
      "\t1.000±0.000\t1.000±0.000\t1.000±0.000\n",
      "\n",
      "--------------------- Test [Acc/Sen/Spec] ---------------------\n",
      "\t0.800±0.000\t0.600±0.000\t1.000±0.000\n"
     ]
    }
   ],
   "source": [
    "cv_results = [t[-1] for t in train_metrics_lst]\n",
    "\n",
    "metrics = get_cv_metrics(cv_results)\n",
    "vals = list(metrics.values())\n",
    "print('--------------------- Train [Acc/Sen/Spec] ---------------------')\n",
    "print(f'\\t{vals[0]:.3f}\\u00B1{vals[1]:.3f}' +\n",
    "      f'\\t{vals[2]:.3f}\\u00B1{vals[3]:.3f}' +\n",
    "      f'\\t{vals[4]:.3f}\\u00B1{vals[5]:.3f}')\n",
    "\n",
    "cv_results = [t[-1] for t in test_metrics_lst]\n",
    "\n",
    "metrics = get_cv_metrics(cv_results)\n",
    "vals = list(metrics.values())\n",
    "print('\\n--------------------- Test [Acc/Sen/Spec] ---------------------')\n",
    "print(f'\\t{vals[0]:.3f}\\u00B1{vals[1]:.3f}' +\n",
    "      f'\\t{vals[2]:.3f}\\u00B1{vals[3]:.3f}' +\n",
    "      f'\\t{vals[4]:.3f}\\u00B1{vals[5]:.3f}')"
   ]
  },
  {
   "cell_type": "markdown",
   "id": "3b21a118",
   "metadata": {},
   "source": [
    "### Visualization"
   ]
  },
  {
   "cell_type": "code",
   "execution_count": 9,
   "id": "dc94a9e4",
   "metadata": {},
   "outputs": [],
   "source": [
    "from matplotlib import pyplot as plt"
   ]
  },
  {
   "cell_type": "code",
   "execution_count": 10,
   "id": "229f72f9",
   "metadata": {},
   "outputs": [],
   "source": [
    "encoder.eval()\n",
    "#zs_test = encoder(torch.tensor(xs_test).cuda().float()).cpu().detach()\n",
    "zs_test = encoder(torch.tensor(xs_test).float()).detach()\n",
    "zs_test = zs_test.reshape(-1, Z_DIM)\n",
    "ys_test_in = np.tile(ys_test[:, None], (1,78)).reshape(-1)"
   ]
  },
  {
   "cell_type": "code",
   "execution_count": 11,
   "id": "6a44d735",
   "metadata": {},
   "outputs": [
    {
     "name": "stderr",
     "output_type": "stream",
     "text": [
      "OMP: Info #276: omp_set_nested routine deprecated, please use omp_set_max_active_levels instead.\n"
     ]
    }
   ],
   "source": [
    "import umap.umap_ as umap\n",
    "um = umap.UMAP(n_neighbors=5,\n",
    "                      min_dist=0.1,\n",
    "                      metric='euclidean').fit(zs_test)\n",
    "embeddings = um.transform(zs_test)"
   ]
  },
  {
   "cell_type": "code",
   "execution_count": 12,
   "id": "bc577d85",
   "metadata": {
    "scrolled": false
   },
   "outputs": [],
   "source": [
    "from sklearn.cluster import KMeans\n",
    "kmeans = KMeans(n_clusters=3, random_state=0).fit(zs_test.numpy())\n",
    "cluster_means = kmeans.cluster_centers_"
   ]
  },
  {
   "cell_type": "code",
   "execution_count": 13,
   "id": "acc4a6b2",
   "metadata": {},
   "outputs": [],
   "source": [
    "cluster_means_umap = um.transform(cluster_means)"
   ]
  },
  {
   "cell_type": "code",
   "execution_count": 14,
   "id": "74e7ea1a",
   "metadata": {},
   "outputs": [
    {
     "data": {
      "text/plain": [
       "<matplotlib.collections.PathCollection at 0x7ff095b30ad0>"
      ]
     },
     "execution_count": 14,
     "metadata": {},
     "output_type": "execute_result"
    },
    {
     "data": {
      "image/png": "[encoded data removed]",
      "text/plain": [
       "<Figure size 640x480 with 1 Axes>"
      ]
     },
     "metadata": {},
     "output_type": "display_data"
    }
   ],
   "source": [
    "plt.figure()\n",
    "plt.scatter(embeddings[ys_test_in==0,0], embeddings[ys_test_in==0,1], color='green', s=1, alpha=.6)\n",
    "plt.scatter(embeddings[ys_test_in==1,0], embeddings[ys_test_in==1,1], color='red', s=1, alpha=.6)\n",
    "plt.scatter(cluster_means_umap[:,0], cluster_means_umap[:,1], color='black', marker='o', edgecolors='black', s=30)"
   ]
  },
  {
   "cell_type": "markdown",
   "id": "40b52c93",
   "metadata": {},
   "source": [
    "### Plot fMRI volume"
   ]
  },
  {
   "cell_type": "code",
   "execution_count": 15,
   "id": "efb2123b",
   "metadata": {},
   "outputs": [],
   "source": [
    "# Find zs_test that is closes to the mean\n",
    "# Find corresponding xs_test that is closest to the mean\n",
    "# Get dictionary reconstruction\n",
    "# Plot fMRI volume"
   ]
  },
  {
   "cell_type": "code",
   "execution_count": 16,
   "id": "bd216a6a",
   "metadata": {},
   "outputs": [],
   "source": [
    "idx = np.argmin(np.linalg.norm(cluster_means[2] - zs_test.numpy(), axis=1)**2)\n",
    "xs_mean = xs_test.reshape(-1, 80)[idx]\n",
    "image = xs_mean @ data_dict['dict_learner'].components_ "
   ]
  },
  {
   "cell_type": "code",
   "execution_count": null,
   "id": "afda93ef",
   "metadata": {},
   "outputs": [],
   "source": [
    "from nilearn.input_data import NiftiMasker\n",
    "from nilearn import datasets\n",
    "import numpy as np\n",
    "\n",
    "# change the file direct if needed\n",
    "rest_dataset = datasets.fetch_abide_pcp(data_dir='/mnt/disks/data/')\n",
    "func_filenames = rest_dataset.func_preproc\n",
    "masker = NiftiMasker(detrend=True, standardize=True, mask_strategy='template', verbose=1)\n",
    "fname = func_filenames[0]\n",
    "masker.fit(fname)\n",
    "#fmri_data = masker.transform(fname)\n",
    "fmri_data_3d = masker.inverse_transform(image)"
   ]
  },
  {
   "cell_type": "code",
   "execution_count": null,
   "id": "76904e3d",
   "metadata": {},
   "outputs": [],
   "source": [
    "from nilearn import plotting\n",
    "coords = plotting.find_xyz_cut_coords(fmri_data_3d)\n",
    "display = plotting.plot_stat_map(fmri_data_3d, cut_coords=coords, colorbar=True,)"
   ]
  },
  {
   "cell_type": "code",
   "execution_count": null,
   "id": "9c22794c",
   "metadata": {},
   "outputs": [],
   "source": [
    "# get points closest to a mean if needed\n",
    "cluster_means \n",
    "# get corresponding x\n",
    "# x to image space"
   ]
  },
  {
   "cell_type": "markdown",
   "id": "123779da",
   "metadata": {},
   "source": [
    "### Cleanup Below"
   ]
  },
  {
   "cell_type": "code",
   "execution_count": null,
   "id": "b4b2f629",
   "metadata": {},
   "outputs": [],
   "source": [
    "from matplotlib import pyplot as plt\n",
    "for i in range(N_SPLITS):\n",
    "    plt.plot(torch.stack(info_losses[i])[15:], c='gray', alpha=.2)\n",
    "    plt.plot(torch.stack(ho_info_losses[i])[15:], c='orange', alpha=.7)\n",
    "    plt.legend(['info_loss', 'ho_info_loss'])\n",
    "    \n",
    "plt.figure()\n",
    "#plt.plot([t['acc'] for t in train_metrics_lst[0]])\n",
    "accs = []\n",
    "for i in range(N_SPLITS):\n",
    "    plt.plot([t['acc'] for t in train_metrics_lst[i]], c='gray', alpha=.2)\n",
    "    plt.plot([t['acc'] for t in test_metrics_lst[i]], c='orange', linestyle='dashed', alpha=.7)\n",
    "\n",
    "\n",
    "accs = []\n",
    "for i in range(N_SPLITS):\n",
    "    accs.append([t['acc'] for t in test_metrics_lst[i]])\n",
    "plt.plot(np.stack(accs).mean(0))\n",
    "\n",
    "plt.legend(['train acc', 'ho acc', 'mean ho acc'])"
   ]
  },
  {
   "cell_type": "code",
   "execution_count": null,
   "id": "1adbdc6a",
   "metadata": {},
   "outputs": [],
   "source": [
    "from matplotlib import pyplot as plt\n",
    "zs = encoder(torch.tensor(xs_test.reshape(-1, 80)).cuda().float()).detach().cpu()\n",
    "ys_ = np.tile(ys_test[:,None], (1, xs_test.shape[1])).reshape(-1)\n",
    "\n",
    "plt.subplot(1,2,1).scatter(zs[:,0][ys_==0], zs[:,1][ys_==0], c='green', alpha=0.1)\n",
    "plt.subplot(1,2,2).scatter(zs[:,0][ys_==1], zs[:,1][ys_==1], c='red', alpha=0.1)"
   ]
  },
  {
   "cell_type": "code",
   "execution_count": null,
   "id": "3c474a52",
   "metadata": {},
   "outputs": [],
   "source": [
    "from matplotlib import pyplot as plt\n",
    "x_est = decoder(encoder(torch.tensor(xs_train[0][0]).cuda().float())).detach().cpu()\n",
    "plt.plot(xs_train[0][0])\n",
    "plt.plot(x_est)"
   ]
  },
  {
   "cell_type": "code",
   "execution_count": null,
   "id": "ac65ec43",
   "metadata": {},
   "outputs": [],
   "source": [
    "plt.scatter(zs[:,0][ys_==1], zs[:,1][ys_==1], alpha=0.1)"
   ]
  },
  {
   "cell_type": "code",
   "execution_count": null,
   "id": "ab62814d",
   "metadata": {},
   "outputs": [],
   "source": []
  },
  {
   "cell_type": "code",
   "execution_count": null,
   "id": "ddb3b004",
   "metadata": {},
   "outputs": [],
   "source": []
  }
 ],
 "metadata": {
  "kernelspec": {
   "display_name": "mle",
   "language": "python",
   "name": "mle"
  },
  "language_info": {
   "codemirror_mode": {
    "name": "ipython",
    "version": 3
   },
   "file_extension": ".py",
   "mimetype": "text/x-python",
   "name": "python",
   "nbconvert_exporter": "python",
   "pygments_lexer": "ipython3",
   "version": "3.7.16"
  }
 },
 "nbformat": 4,
 "nbformat_minor": 5
}
