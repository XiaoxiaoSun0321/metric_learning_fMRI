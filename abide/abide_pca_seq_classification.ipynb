{
 "cells": [
  {
   "cell_type": "code",
   "execution_count": 1,
   "id": "3d9c2a1a",
   "metadata": {},
   "outputs": [],
   "source": [
    "import os\n",
    "os.chdir('XXX') #path to your folder"
   ]
  },
  {
   "cell_type": "code",
   "execution_count": null,
   "id": "88e8c90c",
   "metadata": {
    "scrolled": false
   },
   "outputs": [],
   "source": [
    "import pickle \n",
    "import numpy as np\n",
    "\n",
    "# Load ABIDE-150 data with 80 dimensional dictionary elements \n",
    "data_dict = pickle.load(open( \"./preprocess_scripts/abide_dl_80_data.pkl\", \"rb\"))\n",
    "ys = data_dict['ys'] - 1\n",
    "xs = data_dict['zs'] # Dictionary learning loadings treated as data"
   ]
  },
  {
   "cell_type": "code",
   "execution_count": 3,
   "id": "686080cb",
   "metadata": {},
   "outputs": [],
   "source": [
    "from utils.eval import get_eval_metrics, get_cv_metrics\n",
    "from sklearn.neighbors import KNeighborsClassifier\n",
    "from collections import Counter\n",
    "from sklearn.decomposition import PCA\n",
    "\n",
    "def get_knn_metrics(xs_train, ys_train, xs_test, ys_test, z_dim=10):\n",
    "    \n",
    "    pca = PCA(n_components=z_dim)\n",
    "    \n",
    "    zs_train = pca.fit_transform(xs_train.reshape(-1, xs_train.shape[-1]))\n",
    "    zs_train = zs_train.reshape(xs_train.shape[0], xs_train.shape[1], z_dim)\n",
    "\n",
    "    zs_test = pca.transform(xs_test.reshape(-1, xs_test.shape[-1]))\n",
    "    zs_test = zs_test.reshape(xs_test.shape[0], xs_test.shape[1], z_dim)\n",
    "    \n",
    "    # Trian k-NN classifier\n",
    "    neigh = KNeighborsClassifier(n_neighbors=3)\n",
    "    neigh.fit(zs_train.reshape(-1, z_dim), np.tile(ys_train[:,None], (1, xs_train.shape[1])).reshape(-1))\n",
    "    \n",
    "    # Use k-NN to classify each volume\n",
    "    # then use majority vote to classify each sequence\n",
    "    y_train_pred = []\n",
    "    for z in zs_train:\n",
    "        c = Counter(neigh.predict(z))\n",
    "        value, count = c.most_common()[0]\n",
    "        y_train_pred.append(value)\n",
    "    \n",
    "    train_metrics = get_eval_metrics(ys_train, y_train_pred)\n",
    "    \n",
    "    # Repeat for held-out data\n",
    "    y_test_pred = []\n",
    "    for z in zs_test:\n",
    "        c = Counter(neigh.predict(z))\n",
    "        value, count = c.most_common()[0]\n",
    "        y_test_pred.append(value)\n",
    "\n",
    "    test_metrics = get_eval_metrics(ys_test, y_test_pred)\n",
    "\n",
    "    return train_metrics, test_metrics, zs_train, ys_train, zs_test, ys_test"
   ]
  },
  {
   "cell_type": "code",
   "execution_count": 4,
   "id": "b1136503",
   "metadata": {},
   "outputs": [],
   "source": [
    "N_SPLITS = 5\n",
    "N_EPOCHS = 1\n",
    "Z_DIM = 10\n",
    "TEST_MODE = False"
   ]
  },
  {
   "cell_type": "code",
   "execution_count": 5,
   "id": "d15dd2ab",
   "metadata": {},
   "outputs": [
    {
     "name": "stdout",
     "output_type": "stream",
     "text": [
      "Fold 1 of 5\n",
      "Epoch 1 of 1\n",
      "{'acc': 0.9916666666666667, 'sen': 0.9836065573770492, 'spe': 1.0, 'ppv': 1.0, 'npv': 0.9833333333333333}\n",
      "{'acc': 0.5333333333333333, 'sen': 0.06666666666666667, 'spe': 1.0, 'ppv': 1.0, 'npv': 0.5172413793103449}\n",
      "Fold 2 of 5\n",
      "Epoch 1 of 1\n",
      "{'acc': 0.975, 'sen': 0.9508196721311475, 'spe': 1.0, 'ppv': 1.0, 'npv': 0.9516129032258065}\n",
      "{'acc': 0.7333333333333333, 'sen': 0.4666666666666667, 'spe': 1.0, 'ppv': 1.0, 'npv': 0.6521739130434783}\n",
      "Fold 3 of 5\n",
      "Epoch 1 of 1\n",
      "{'acc': 0.9833333333333333, 'sen': 0.9672131147540983, 'spe': 1.0, 'ppv': 1.0, 'npv': 0.9672131147540983}\n",
      "{'acc': 0.6, 'sen': 0.2, 'spe': 1.0, 'ppv': 1.0, 'npv': 0.5555555555555556}\n",
      "Fold 4 of 5\n",
      "Epoch 1 of 1\n",
      "{'acc': 0.9916666666666667, 'sen': 0.9836065573770492, 'spe': 1.0, 'ppv': 1.0, 'npv': 0.9833333333333333}\n",
      "{'acc': 0.6333333333333333, 'sen': 0.26666666666666666, 'spe': 1.0, 'ppv': 1.0, 'npv': 0.5769230769230769}\n",
      "Fold 5 of 5\n",
      "Epoch 1 of 1\n",
      "{'acc': 0.9916666666666667, 'sen': 0.9833333333333333, 'spe': 1.0, 'ppv': 1.0, 'npv': 0.9836065573770492}\n",
      "{'acc': 0.5, 'sen': 0.0625, 'spe': 1.0, 'ppv': 1.0, 'npv': 0.4827586206896552}\n"
     ]
    }
   ],
   "source": [
    "from sklearn.model_selection import StratifiedKFold\n",
    "\n",
    "losses = []\n",
    "ho_losses = []\n",
    "train_metrics_lst = []\n",
    "test_metrics_lst = []\n",
    "cached_anchors = []\n",
    "\n",
    "kf = StratifiedKFold(n_splits=N_SPLITS)\n",
    "\n",
    "for i, (train_index, test_index) in enumerate(kf.split(xs, ys)):\n",
    "    if TEST_MODE and i > 0:\n",
    "        print('!!!TEST MODE!!!')\n",
    "        break\n",
    "    losses.append([])\n",
    "    ho_losses.append([])\n",
    "    train_metrics_lst.append([])\n",
    "    test_metrics_lst.append([])\n",
    "\n",
    "    print(f'Fold {i+1} of {N_SPLITS}')\n",
    "    xs_train, xs_test = xs[train_index], xs[test_index]\n",
    "    ys_train, ys_test = ys[train_index], ys[test_index]\n",
    "\n",
    "\n",
    "    for i in range(N_EPOCHS):\n",
    "        if i % 20 == 0:\n",
    "            print(f'Epoch {i+1} of {N_EPOCHS}')\n",
    "        \n",
    "        if i % 50 == 0:\n",
    "            train_metrics, test_metrics, zs_train, ys_train, zs_test, ys_test = get_knn_metrics(xs_train, ys_train, xs_test, ys_test, Z_DIM)\n",
    "            print(train_metrics)\n",
    "            print(test_metrics)\n",
    "            train_metrics_lst[-1].append(train_metrics)\n",
    "            test_metrics_lst[-1].append(test_metrics)\n",
    "\n",
    "    cached_anchors.append(zs_train)"
   ]
  },
  {
   "cell_type": "code",
   "execution_count": 6,
   "id": "1f2f504b",
   "metadata": {},
   "outputs": [
    {
     "name": "stdout",
     "output_type": "stream",
     "text": [
      "--------------------- Train [Acc/Sen/Spec] ---------------------\n",
      "\t0.987±0.007\t0.974±0.013\t1.000±0.000\n",
      "\n",
      "--------------------- Test [Acc/Sen/Spec] ---------------------\n",
      "\t0.600±0.082\t0.212±0.149\t1.000±0.000\n"
     ]
    }
   ],
   "source": [
    "cv_results = [t[0] for t in train_metrics_lst]\n",
    "\n",
    "metrics = get_cv_metrics(cv_results)\n",
    "vals = list(metrics.values())\n",
    "print('--------------------- Train [Acc/Sen/Spec] ---------------------')\n",
    "print(f'\\t{vals[0]:.3f}\\u00B1{vals[1]:.3f}' +\n",
    "      f'\\t{vals[2]:.3f}\\u00B1{vals[3]:.3f}' +\n",
    "      f'\\t{vals[4]:.3f}\\u00B1{vals[5]:.3f}')\n",
    "\n",
    "cv_results = [t[0] for t in test_metrics_lst]\n",
    "\n",
    "metrics = get_cv_metrics(cv_results)\n",
    "vals = list(metrics.values())\n",
    "print('\\n--------------------- Test [Acc/Sen/Spec] ---------------------')\n",
    "print(f'\\t{vals[0]:.3f}\\u00B1{vals[1]:.3f}' +\n",
    "      f'\\t{vals[2]:.3f}\\u00B1{vals[3]:.3f}' +\n",
    "      f'\\t{vals[4]:.3f}\\u00B1{vals[5]:.3f}')"
   ]
  },
  {
   "cell_type": "markdown",
   "id": "1e7c65dc",
   "metadata": {},
   "source": [
    "### Visualization"
   ]
  },
  {
   "cell_type": "code",
   "execution_count": 7,
   "id": "e8f6dfdb",
   "metadata": {},
   "outputs": [],
   "source": [
    "from matplotlib import pyplot as plt\n",
    "\n",
    "zs_test = zs_test.reshape(-1, Z_DIM)\n",
    "ys_test_in = np.tile(ys_test[:, None], (1,78)).reshape(-1)"
   ]
  },
  {
   "cell_type": "code",
   "execution_count": null,
   "id": "8107a56a",
   "metadata": {
    "scrolled": true
   },
   "outputs": [],
   "source": [
    "#import umap\n",
    "#os.environ['OMP_NUM_THREADS'] = '1'\n",
    "import umap.umap_ as umap\n",
    "um = umap.UMAP(n_neighbors=5,\n",
    "                      min_dist=0.1,\n",
    "                      metric='euclidean').fit(zs_test)\n",
    "embeddings = um.transform(zs_test)\n"
   ]
  },
  {
   "cell_type": "code",
   "execution_count": 10,
   "id": "d0a62cc1",
   "metadata": {},
   "outputs": [
    {
     "data": {
      "text/plain": [
       "([], [])"
      ]
     },
     "execution_count": 10,
     "metadata": {},
     "output_type": "execute_result"
    },
    {
     "data": {
      "image/png": "[encoded data removed]",
      "text/plain": [
       "<Figure size 640x480 with 1 Axes>"
      ]
     },
     "metadata": {},
     "output_type": "display_data"
    }
   ],
   "source": [
    "plt.figure()\n",
    "plt.scatter(embeddings[ys_test_in==0,0], embeddings[ys_test_in==0,1], color='green', s=1, alpha=.6)\n",
    "plt.scatter(embeddings[ys_test_in==1,0], embeddings[ys_test_in==1,1], color='red', s=1, alpha=.6)\n",
    "plt.xticks([])\n",
    "plt.yticks([])"
   ]
  }
 ],
 "metadata": {
  "kernelspec": {
   "display_name": "mle",
   "language": "python",
   "name": "mle"
  },
  "language_info": {
   "codemirror_mode": {
    "name": "ipython",
    "version": 3
   },
   "file_extension": ".py",
   "mimetype": "text/x-python",
   "name": "python",
   "nbconvert_exporter": "python",
   "pygments_lexer": "ipython3",
   "version": "3.7.16"
  }
 },
 "nbformat": 4,
 "nbformat_minor": 5
}
