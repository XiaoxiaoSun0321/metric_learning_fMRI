{
 "cells": [
  {
   "cell_type": "code",
   "execution_count": 1,
   "id": "3d9c2a1a",
   "metadata": {},
   "outputs": [],
   "source": [
    "import os\n",
    "os.chdir('/home/arunesh_mitl_gmail_com/floater/DissertationProjects/prototypical_metric_learning/')"
   ]
  },
  {
   "cell_type": "code",
   "execution_count": 2,
   "id": "88e8c90c",
   "metadata": {},
   "outputs": [
    {
     "ename": "MemoryError",
     "evalue": "",
     "output_type": "error",
     "traceback": [
      "\u001b[0;31m---------------------------------------------------------------------------\u001b[0m",
      "\u001b[0;31mMemoryError\u001b[0m                               Traceback (most recent call last)",
      "\u001b[0;32m/tmp/ipykernel_25223/987611334.py\u001b[0m in \u001b[0;36m<module>\u001b[0;34m\u001b[0m\n\u001b[1;32m      3\u001b[0m \u001b[0;34m\u001b[0m\u001b[0m\n\u001b[1;32m      4\u001b[0m \u001b[0;31m# Load ABIDE-150 data with 80 dimensional dictionary elements\u001b[0m\u001b[0;34m\u001b[0m\u001b[0;34m\u001b[0m\u001b[0;34m\u001b[0m\u001b[0m\n\u001b[0;32m----> 5\u001b[0;31m \u001b[0mdata_dict\u001b[0m \u001b[0;34m=\u001b[0m \u001b[0mpickle\u001b[0m\u001b[0;34m.\u001b[0m\u001b[0mload\u001b[0m\u001b[0;34m(\u001b[0m\u001b[0mopen\u001b[0m\u001b[0;34m(\u001b[0m \u001b[0;34m\"./preprocessed_data/abide_dl_80_data.pkl\"\u001b[0m\u001b[0;34m,\u001b[0m \u001b[0;34m\"rb\"\u001b[0m\u001b[0;34m)\u001b[0m\u001b[0;34m)\u001b[0m\u001b[0;34m\u001b[0m\u001b[0;34m\u001b[0m\u001b[0m\n\u001b[0m\u001b[1;32m      6\u001b[0m \u001b[0mys\u001b[0m \u001b[0;34m=\u001b[0m \u001b[0mdata_dict\u001b[0m\u001b[0;34m[\u001b[0m\u001b[0;34m'ys'\u001b[0m\u001b[0;34m]\u001b[0m \u001b[0;34m-\u001b[0m \u001b[0;36m1\u001b[0m\u001b[0;34m\u001b[0m\u001b[0;34m\u001b[0m\u001b[0m\n\u001b[1;32m      7\u001b[0m \u001b[0mxs\u001b[0m \u001b[0;34m=\u001b[0m \u001b[0mdata_dict\u001b[0m\u001b[0;34m[\u001b[0m\u001b[0;34m'zs'\u001b[0m\u001b[0;34m]\u001b[0m \u001b[0;31m# Dictionary learning loadings treated as data\u001b[0m\u001b[0;34m\u001b[0m\u001b[0;34m\u001b[0m\u001b[0m\n",
      "\u001b[0;31mMemoryError\u001b[0m: "
     ]
    }
   ],
   "source": [
    "import pickle \n",
    "import numpy as np\n",
    "\n",
    "# Load ABIDE-150 data with 80 dimensional dictionary elements \n",
    "data_dict = pickle.load(open( \"./preprocessed_data/abide_dl_80_data.pkl\", \"rb\"))\n",
    "ys = data_dict['ys'] - 1\n",
    "xs = data_dict['zs'] # Dictionary learning loadings treated as data"
   ]
  },
  {
   "cell_type": "code",
   "execution_count": null,
   "id": "686080cb",
   "metadata": {},
   "outputs": [],
   "source": [
    "from utils.eval import get_eval_metrics, get_cv_metrics\n",
    "from sklearn.neighbors import KNeighborsClassifier\n",
    "from collections import Counter\n",
    "from sklearn.decomposition import PCA\n",
    "\n",
    "def get_knn_metrics(xs_train, ys_train, xs_test, ys_test, z_dim=10):\n",
    "    \n",
    "    pca = PCA(n_components=z_dim)\n",
    "    \n",
    "    zs_train = pca.fit_transform(xs_train.reshape(-1, xs_train.shape[-1]))\n",
    "    zs_train = zs_train.reshape(xs_train.shape[0], xs_train.shape[1], z_dim)\n",
    "\n",
    "    zs_test = pca.transform(xs_test.reshape(-1, xs_test.shape[-1]))\n",
    "    zs_test = zs_test.reshape(xs_test.shape[0], xs_test.shape[1], z_dim)\n",
    "    \n",
    "    # Trian k-NN classifier\n",
    "    neigh = KNeighborsClassifier(n_neighbors=3)\n",
    "    neigh.fit(zs_train.reshape(-1, z_dim), np.tile(ys_train[:,None], (1, xs_train.shape[1])).reshape(-1))\n",
    "    \n",
    "    # Use k-NN to classify each volume\n",
    "    # then use majority vote to classify each sequence\n",
    "    y_train_pred = []\n",
    "    for z in zs_train:\n",
    "        c = Counter(neigh.predict(z))\n",
    "        value, count = c.most_common()[0]\n",
    "        y_train_pred.append(value)\n",
    "    \n",
    "    train_metrics = get_eval_metrics(ys_train, y_train_pred)\n",
    "    \n",
    "    # Repeat for held-out data\n",
    "    y_test_pred = []\n",
    "    for z in zs_test:\n",
    "        c = Counter(neigh.predict(z))\n",
    "        value, count = c.most_common()[0]\n",
    "        y_test_pred.append(value)\n",
    "\n",
    "    test_metrics = get_eval_metrics(ys_test, y_test_pred)\n",
    "\n",
    "    return train_metrics, test_metrics, zs_train, ys_train, zs_test, ys_test"
   ]
  },
  {
   "cell_type": "code",
   "execution_count": 3,
   "id": "b1136503",
   "metadata": {},
   "outputs": [],
   "source": [
    "N_SPLITS = 5\n",
    "N_EPOCHS = 1\n",
    "Z_DIM = 10\n",
    "TEST_MODE = False"
   ]
  },
  {
   "cell_type": "code",
   "execution_count": 5,
   "id": "d15dd2ab",
   "metadata": {},
   "outputs": [
    {
     "name": "stdout",
     "output_type": "stream",
     "text": [
      "Fold 1 of 5\n",
      "Epoch 1 of 1\n",
      "{'acc': 0.9916666666666667, 'sen': 0.9836065573770492, 'spe': 1.0, 'ppv': 1.0, 'npv': 0.9833333333333333}\n",
      "{'acc': 0.5666666666666667, 'sen': 0.13333333333333333, 'spe': 1.0, 'ppv': 1.0, 'npv': 0.5357142857142857}\n",
      "Fold 2 of 5\n",
      "Epoch 1 of 1\n",
      "{'acc': 0.9916666666666667, 'sen': 0.9836065573770492, 'spe': 1.0, 'ppv': 1.0, 'npv': 0.9833333333333333}\n",
      "{'acc': 0.6666666666666666, 'sen': 0.3333333333333333, 'spe': 1.0, 'ppv': 1.0, 'npv': 0.6}\n",
      "Fold 3 of 5\n",
      "Epoch 1 of 1\n",
      "{'acc': 0.9833333333333333, 'sen': 0.9672131147540983, 'spe': 1.0, 'ppv': 1.0, 'npv': 0.9672131147540983}\n",
      "{'acc': 0.5666666666666667, 'sen': 0.13333333333333333, 'spe': 1.0, 'ppv': 1.0, 'npv': 0.5357142857142857}\n",
      "Fold 4 of 5\n",
      "Epoch 1 of 1\n",
      "{'acc': 0.9916666666666667, 'sen': 0.9836065573770492, 'spe': 1.0, 'ppv': 1.0, 'npv': 0.9833333333333333}\n",
      "{'acc': 0.6666666666666666, 'sen': 0.3333333333333333, 'spe': 1.0, 'ppv': 1.0, 'npv': 0.6}\n",
      "Fold 5 of 5\n",
      "Epoch 1 of 1\n",
      "{'acc': 1.0, 'sen': 1.0, 'spe': 1.0, 'ppv': 1.0, 'npv': 1.0}\n",
      "{'acc': 0.5, 'sen': 0.0625, 'spe': 1.0, 'ppv': 1.0, 'npv': 0.4827586206896552}\n"
     ]
    }
   ],
   "source": [
    "from sklearn.model_selection import StratifiedKFold\n",
    "\n",
    "losses = []\n",
    "ho_losses = []\n",
    "train_metrics_lst = []\n",
    "test_metrics_lst = []\n",
    "cached_anchors = []\n",
    "\n",
    "kf = StratifiedKFold(n_splits=N_SPLITS)\n",
    "\n",
    "for i, (train_index, test_index) in enumerate(kf.split(xs, ys)):\n",
    "    if TEST_MODE and i > 0:\n",
    "        print('!!!TEST MODE!!!')\n",
    "        break\n",
    "    losses.append([])\n",
    "    ho_losses.append([])\n",
    "    train_metrics_lst.append([])\n",
    "    test_metrics_lst.append([])\n",
    "\n",
    "    print(f'Fold {i+1} of {N_SPLITS}')\n",
    "    xs_train, xs_test = xs[train_index], xs[test_index]\n",
    "    ys_train, ys_test = ys[train_index], ys[test_index]\n",
    "\n",
    "\n",
    "    for i in range(N_EPOCHS):\n",
    "        if i % 20 == 0:\n",
    "            print(f'Epoch {i+1} of {N_EPOCHS}')\n",
    "        \n",
    "        if i % 50 == 0:\n",
    "            train_metrics, test_metrics, zs_train, ys_train, zs_test, ys_test = get_knn_metrics(xs_train, ys_train, xs_test, ys_test, Z_DIM)\n",
    "            print(train_metrics)\n",
    "            print(test_metrics)\n",
    "            train_metrics_lst[-1].append(train_metrics)\n",
    "            test_metrics_lst[-1].append(test_metrics)\n",
    "\n",
    "    cached_anchors.append(zs_train)"
   ]
  },
  {
   "cell_type": "code",
   "execution_count": 7,
   "id": "1f2f504b",
   "metadata": {},
   "outputs": [
    {
     "name": "stdout",
     "output_type": "stream",
     "text": [
      "--------------------- Train [Acc/Sen/Spec] ---------------------\n",
      "\t0.992±0.005\t0.984±0.010\t1.000±0.000\n",
      "\n",
      "--------------------- Test [Acc/Sen/Spec] ---------------------\n",
      "\t0.593±0.065\t0.199±0.113\t1.000±0.000\n"
     ]
    }
   ],
   "source": [
    "cv_results = [t[0] for t in train_metrics_lst]\n",
    "\n",
    "metrics = get_cv_metrics(cv_results)\n",
    "vals = list(metrics.values())\n",
    "print('--------------------- Train [Acc/Sen/Spec] ---------------------')\n",
    "print(f'\\t{vals[0]:.3f}\\u00B1{vals[1]:.3f}' +\n",
    "      f'\\t{vals[2]:.3f}\\u00B1{vals[3]:.3f}' +\n",
    "      f'\\t{vals[4]:.3f}\\u00B1{vals[5]:.3f}')\n",
    "\n",
    "cv_results = [t[0] for t in test_metrics_lst]\n",
    "\n",
    "metrics = get_cv_metrics(cv_results)\n",
    "vals = list(metrics.values())\n",
    "print('\\n--------------------- Test [Acc/Sen/Spec] ---------------------')\n",
    "print(f'\\t{vals[0]:.3f}\\u00B1{vals[1]:.3f}' +\n",
    "      f'\\t{vals[2]:.3f}\\u00B1{vals[3]:.3f}' +\n",
    "      f'\\t{vals[4]:.3f}\\u00B1{vals[5]:.3f}')"
   ]
  },
  {
   "cell_type": "markdown",
   "id": "1e7c65dc",
   "metadata": {},
   "source": [
    "### Visualization"
   ]
  },
  {
   "cell_type": "code",
   "execution_count": 8,
   "id": "e8f6dfdb",
   "metadata": {},
   "outputs": [],
   "source": [
    "from matplotlib import pyplot as plt\n",
    "\n",
    "zs_test = zs_test.reshape(-1, Z_DIM)\n",
    "ys_test_in = np.tile(ys_test[:, None], (1,78)).reshape(-1)"
   ]
  },
  {
   "cell_type": "code",
   "execution_count": 12,
   "id": "8107a56a",
   "metadata": {},
   "outputs": [],
   "source": [
    "import umap\n",
    "um = umap.UMAP(n_neighbors=5,\n",
    "                      min_dist=0.1,\n",
    "                      metric='euclidean').fit(zs_test)\n",
    "embeddings = um.transform(zs_test)"
   ]
  },
  {
   "cell_type": "code",
   "execution_count": 14,
   "id": "d0a62cc1",
   "metadata": {},
   "outputs": [
    {
     "data": {
      "text/plain": [
       "([], [])"
      ]
     },
     "execution_count": 14,
     "metadata": {},
     "output_type": "execute_result"
    },
    {
     "data": {
      "image/png": "[encoded data removed]",
      "text/plain": [
       "<Figure size 640x480 with 1 Axes>"
      ]
     },
     "metadata": {},
     "output_type": "display_data"
    }
   ],
   "source": [
    "plt.figure()\n",
    "plt.scatter(embeddings[ys_test_in==0,0], embeddings[ys_test_in==0,1], color='green', s=1, alpha=.6)\n",
    "plt.scatter(embeddings[ys_test_in==1,0], embeddings[ys_test_in==1,1], color='red', s=1, alpha=.6)\n",
    "plt.xticks([])\n",
    "plt.yticks([])"
   ]
  },
  {
   "cell_type": "code",
   "execution_count": null,
   "id": "84c95e38",
   "metadata": {},
   "outputs": [],
   "source": []
  }
 ],
 "metadata": {
  "kernelspec": {
   "display_name": "Python 3 (ipykernel)",
   "language": "python",
   "name": "python3"
  },
  "language_info": {
   "codemirror_mode": {
    "name": "ipython",
    "version": 3
   },
   "file_extension": ".py",
   "mimetype": "text/x-python",
   "name": "python",
   "nbconvert_exporter": "python",
   "pygments_lexer": "ipython3",
   "version": "3.10.9"
  }
 },
 "nbformat": 4,
 "nbformat_minor": 5
}
